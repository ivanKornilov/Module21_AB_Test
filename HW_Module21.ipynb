{
  "nbformat": 4,
  "nbformat_minor": 0,
  "metadata": {
    "colab": {
      "provenance": []
    },
    "kernelspec": {
      "name": "python3",
      "display_name": "Python 3"
    },
    "language_info": {
      "name": "python"
    }
  },
  "cells": [
    {
      "cell_type": "code",
      "execution_count": 36,
      "metadata": {
        "colab": {
          "base_uri": "https://localhost:8080/"
        },
        "id": "ZF359RR-ct_-",
        "outputId": "df0d426e-2320-4752-ff12-5bff557aba9c"
      },
      "outputs": [
        {
          "output_type": "stream",
          "name": "stdout",
          "text": [
            "Power_divergenceResult(statistic=5.601182281966151, pvalue=0.017948361469529415)\n",
            "SRM is not present НЕТ НЕСООТВЕТСВИЯ ПОЛЬЗОВАТЕЛЕЙ ГРУПП ОЖИДАЕМЫМ\n"
          ]
        }
      ],
      "source": [
        "from scipy.stats import chisquare\n",
        "\n",
        "test = 6306\n",
        "control = 6043\n",
        "total_trafic = test + control\n",
        "\n",
        "observed = [test, control]\n",
        "expected =  [total_trafic / 2, total_trafic /2]\n",
        "\n",
        "chi = chisquare(observed, f_exp = expected)\n",
        "\n",
        "print (chi)\n",
        "\n",
        "if chi[1] < 0.01:\n",
        "\tprint(\"SRM is present  = НЕСООТВЕТСВИЕ ПОЛЬЗОВАТЕЛЕЙ ГРУПП ОЖИДАЕМЫМ\")\n",
        "else:\n",
        "\tprint(\"SRM is not present НЕТ НЕСООТВЕТСВИЯ ПОЛЬЗОВАТЕЛЕЙ ГРУПП ОЖИДАЕМЫМ\")"
      ]
    },
    {
      "cell_type": "code",
      "source": [
        "import pandas as pd\n",
        "\n",
        "df = pd.read_excel('/content/contracts_plus_loses_dash_0409_со столбцом аномалий (2).xlsx', sheet_name='testcontrol', index_col=0)"
      ],
      "metadata": {
        "id": "YZsOJ0L-c07Z"
      },
      "execution_count": 41,
      "outputs": []
    },
    {
      "cell_type": "code",
      "source": [
        "control = df[df['group'] == 'control']\n",
        "test = df[df['group'] == 'test']"
      ],
      "metadata": {
        "id": "_n4SFbfJiO0p"
      },
      "execution_count": 42,
      "outputs": []
    },
    {
      "cell_type": "code",
      "source": [
        "control.drop('group', axis= 1 , inplace= True )\n",
        "test.drop('group', axis= 1 , inplace= True )\n",
        "control.drop('experiment_id', axis= 1 , inplace= True )\n",
        "test.drop('experiment_id', axis= 1 , inplace= True )"
      ],
      "metadata": {
        "id": "w4V_Oga3iPbq"
      },
      "execution_count": null,
      "outputs": []
    },
    {
      "cell_type": "code",
      "source": [
        "print(ttest_ind(control, test, equal_var=False))\n",
        "\n",
        "print('Средняя потеря по пользователю контрольная группа', control.mean())\n",
        "print('Средняя потеря по пользователю тестовая группа', test.mean())"
      ],
      "metadata": {
        "colab": {
          "base_uri": "https://localhost:8080/"
        },
        "id": "KjSSII5oihgG",
        "outputId": "803ebdd7-1cfe-4973-973f-fa78ef3c4d20"
      },
      "execution_count": 44,
      "outputs": [
        {
          "output_type": "stream",
          "name": "stdout",
          "text": [
            "TtestResult(statistic=array([-0.34528481]), pvalue=array([0.72988769]), df=array([9771.57595476]))\n",
            "Средняя потеря по пользователю контрольная группа loss    876.690844\n",
            "dtype: float64\n",
            "Средняя потеря по пользователю тестовая группа loss    1080.716454\n",
            "dtype: float64\n"
          ]
        }
      ]
    },
    {
      "cell_type": "code",
      "source": [
        "# 72%>5% следованиельно на уровне значимости 95% не можем отвергнуть нулевую гипотезу,\n",
        "#следовательно средняя потеря по полисам не изменилось после внедрения нового подхода"
      ],
      "metadata": {
        "id": "GRMl1j71kvCQ"
      },
      "execution_count": null,
      "outputs": []
    },
    {
      "cell_type": "code",
      "source": [
        "def p_bin(m1,n1,m2,n2,level_conf=0.05):\n",
        "    # на вход ф-ии подается кол-во успехов варианта А и общее число вариантов m1,n1\n",
        "    #и число успехов варанта Б и общее число вариантов m2, n2,\n",
        "    #а также уровень значимости - опционально (0.05 по умолчанию)\n",
        "    from scipy import stats\n",
        "    T = (m1/n1 - m2/n2)/((m1+m2)/(n1+n2)*(1 - (m1+m2)/(n1+n2))*(1/n1+1/n2))**0.5 #формула биномиального критерия вер-сти\n",
        "    P = 1 - stats.norm.cdf(T)  # вычисляем p-значение\n",
        "    # критичная область у нас со знаком БОЛЬШЕ, потому что задачался вопрос в альтернативной что ВАРИАНТ А был более значимым\n",
        "    print(f\"Stats {T}, p-value {P}\")\n",
        "    if (P < level_conf):\n",
        "        print(f\"На уровне значимости {level_conf} нулевая гипотеза отвергается в пользу альтернативной: Вариаент А более значим (значимая разница Варианта А перед вариантом Б есть)\")\n",
        "    else:\n",
        "        print(f\"На уровне значимости {level_conf} нулевая гипотеза принимается (нет значимой разницы между вариантом А и Б)\")\n",
        "#p_bin(46,1100,30,1000,0.1) Пример ф-иии и ответа:\n",
        "# На уровне значимости 0.1 нулевая гипотеза отвергается в пользу альтернативной: Вариаент А более значим (значимая разница Варианта А перед вариантом Б есть)"
      ],
      "metadata": {
        "id": "cq8Vd79vLalO"
      },
      "execution_count": 45,
      "outputs": []
    },
    {
      "cell_type": "code",
      "source": [
        "control_not0 = control[control['loss'] != 0].count()\n",
        "test_not0 = test[test['loss'] != 0].count()\n",
        "\n",
        "\n",
        "print('Средняя потеря по пользователю контрольная группа', control_not0)\n",
        "print('Средняя потеря по пользователю тестовая группа', test_not0)"
      ],
      "metadata": {
        "colab": {
          "base_uri": "https://localhost:8080/"
        },
        "id": "1iBKmNaDLhPU",
        "outputId": "a510d255-6d28-40e0-f197-9c47f80c3fcb"
      },
      "execution_count": 47,
      "outputs": [
        {
          "output_type": "stream",
          "name": "stdout",
          "text": [
            "Средняя потеря по пользователю контрольная группа loss    30\n",
            "dtype: int64\n",
            "Средняя потеря по пользователю тестовая группа loss    14\n",
            "dtype: int64\n"
          ]
        }
      ]
    },
    {
      "cell_type": "code",
      "source": [
        "p_bin(control_not0, control.count(),test_not0,test.count())"
      ],
      "metadata": {
        "colab": {
          "base_uri": "https://localhost:8080/"
        },
        "id": "lNjOTGqkLdiB",
        "outputId": "b1739d98-1ff2-4634-980d-fad82996bd82"
      },
      "execution_count": 48,
      "outputs": [
        {
          "output_type": "stream",
          "name": "stdout",
          "text": [
            "Stats loss    2.558502\n",
            "dtype: float64, p-value [0.00525621]\n",
            "На уровне значимости 0.05 нулевая гипотеза отвергается в пользу альтернативной: Вариаент А более значим (значимая разница Варианта А перед вариантом Б есть)\n"
          ]
        }
      ]
    },
    {
      "cell_type": "code",
      "source": [
        "# Итого по метрике \"кол-ву потерь\" разница значимая, а по сумме потерь - значимой разницы нет."
      ],
      "metadata": {
        "id": "SrHSKXZ6MmMT"
      },
      "execution_count": 49,
      "outputs": []
    },
    {
      "cell_type": "code",
      "source": [],
      "metadata": {
        "id": "W2zEW9pJM2vi"
      },
      "execution_count": null,
      "outputs": []
    }
  ]
}